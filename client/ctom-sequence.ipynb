{
 "cells": [
  {
   "cell_type": "code",
   "execution_count": 1,
   "metadata": {},
   "outputs": [],
   "source": [
    "import random\n",
    "import json"
   ]
  },
  {
   "cell_type": "code",
   "execution_count": 11,
   "metadata": {},
   "outputs": [],
   "source": [
    "for x in range(10):\n",
    "    random.seed(x)    \n",
    "    ctom_dict = {}\n",
    "\n",
    "    blocks = [\"Block\"+str(x) for x in range(1,15)]\n",
    "\n",
    "    targets = [x for x in range(1,15)]\n",
    "    shuffled_targets = targets.copy()\n",
    "    random.shuffle(shuffled_targets)\n",
    "\n",
    "    stimuli = [\"faceTrait\", \"faceState\", \"videoTrait\",\"videoState\", \"predictTrait\",\n",
    "               \"convoTrait\", \"convoState\",\"partnerAgree\",\"partnerSurprise\"]\n",
    "    traits = [\"Bossy\",\"Easygoing\",\"Passive\"]\n",
    "    states = [\"Valence\",\"Rationality\",\"Impact\"]\n",
    "\n",
    "    def trait_shuffler(input):\n",
    "        random.shuffle(input)\n",
    "        defaults = [0] * len(input)\n",
    "        return dict(zip(input,defaults))\n",
    "\n",
    "    for i in blocks:\n",
    "        ctom_dict[str(i)] = {}\n",
    "\n",
    "    index=0\n",
    "    for key in ctom_dict:\n",
    "        ctom_dict[key]= {\"target\"+str(shuffled_targets[index]): {}}\n",
    "        index += 1\n",
    "\n",
    "    for key in ctom_dict:\n",
    "        for k in ctom_dict[key].keys():\n",
    "            for stim in stimuli:\n",
    "                ctom_dict[key][k][stim]={}\n",
    "\n",
    "    for key in ctom_dict:\n",
    "        for k in ctom_dict[key].keys():\n",
    "            for stim in ctom_dict[key][k].keys():\n",
    "                if \"Trait\" in stim:\n",
    "                    ctom_dict[key][k][stim] = trait_shuffler(traits)\n",
    "                elif \"partner\" in stim:\n",
    "                    ctom_dict[key][k][stim] = 0 \n",
    "                else:\n",
    "                    ctom_dict[key][k][stim] = trait_shuffler(states)\n",
    "    \n",
    "    with open('/Users/f004p74/Desktop/web-dev/cTom-experiment/client/src/ctom-data/ctom-data_group_000'+str(x)+'.json', 'w') as fp:\n",
    "        json.dump(ctom_dict, fp)"
   ]
  },
  {
   "cell_type": "code",
   "execution_count": null,
   "metadata": {},
   "outputs": [],
   "source": []
  }
 ],
 "metadata": {
  "kernelspec": {
   "display_name": "Python 3 (ipykernel)",
   "language": "python",
   "name": "python3"
  },
  "language_info": {
   "codemirror_mode": {
    "name": "ipython",
    "version": 3
   },
   "file_extension": ".py",
   "mimetype": "text/x-python",
   "name": "python",
   "nbconvert_exporter": "python",
   "pygments_lexer": "ipython3",
   "version": "3.9.13"
  },
  "vscode": {
   "interpreter": {
    "hash": "31f2aee4e71d21fbe5cf8b01ff0e069b9275f58929596ceb00d14d90e3e16cd6"
   }
  }
 },
 "nbformat": 4,
 "nbformat_minor": 2
}
